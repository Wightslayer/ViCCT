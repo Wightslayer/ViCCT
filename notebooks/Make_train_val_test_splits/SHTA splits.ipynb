{
 "cells": [
  {
   "cell_type": "code",
   "execution_count": 1,
   "id": "b064e229",
   "metadata": {},
   "outputs": [
    {
     "name": "stdout",
     "output_type": "stream",
     "text": [
      "C:\\Users\\Wight\\PycharmProjects\\ViCCT\n"
     ]
    }
   ],
   "source": [
    "%cd ../.."
   ]
  },
  {
   "cell_type": "code",
   "execution_count": 2,
   "id": "eac5b897",
   "metadata": {},
   "outputs": [],
   "source": [
    "import os\n",
    "import csv\n",
    "import random"
   ]
  },
  {
   "cell_type": "code",
   "execution_count": 3,
   "id": "a8f83302",
   "metadata": {},
   "outputs": [],
   "source": [
    "base_path = 'D:\\\\ThesisData\\\\Datasets\\\\ShanghaiTech\\\\part_A'\n",
    "train_path = os.path.join(base_path, 'train_data')\n",
    "test_path = os.path.join(base_path, 'test_data')"
   ]
  },
  {
   "cell_type": "code",
   "execution_count": 4,
   "id": "bf1b8eff",
   "metadata": {},
   "outputs": [],
   "source": [
    "# Get all train data\n",
    "\n",
    "train_imgs_path = os.path.join(train_path, 'images')\n",
    "all_train_images = os.listdir(train_imgs_path)\n",
    "\n",
    "train_and_val = []\n",
    "for train_img_name in all_train_images:\n",
    "    train_gt_name = 'GT_' + train_img_name.replace('.jpg', '.mat')\n",
    "    train_img_rel_path = os.path.join('train_data', 'images', train_img_name)\n",
    "    train_gt_rel_path = os.path.join('train_data', 'ground-truth', train_gt_name)\n",
    "    train_and_val.append((train_img_rel_path, train_gt_rel_path))"
   ]
  },
  {
   "cell_type": "code",
   "execution_count": 5,
   "id": "6114456f",
   "metadata": {},
   "outputs": [],
   "source": [
    "# Get all test data\n",
    "\n",
    "test_imgs_path = os.path.join(test_path, 'images')\n",
    "all_test_images = os.listdir(test_imgs_path)\n",
    "\n",
    "test_split = []\n",
    "for test_img_name in all_test_images:\n",
    "    test_gt_name = 'GT_' + test_img_name.replace('.jpg', '.mat')\n",
    "    test_img_rel_path = os.path.join('test_data', 'images', test_img_name)\n",
    "    test_gt_rel_path = os.path.join('test_data', 'ground-truth', test_gt_name)\n",
    "    test_split.append((test_img_rel_path, test_gt_rel_path))"
   ]
  },
  {
   "cell_type": "code",
   "execution_count": 6,
   "id": "bc80f4d0",
   "metadata": {},
   "outputs": [],
   "source": [
    "val_split = random.sample(train_and_val, len(train_and_val) // 5)\n",
    "train_split = [element for element in train_and_val if not element in val_split]"
   ]
  },
  {
   "cell_type": "code",
   "execution_count": 7,
   "id": "73ad541d",
   "metadata": {},
   "outputs": [],
   "source": [
    "save_path = os.path.join(base_path, 'train_split.csv')\n",
    "with open(save_path, 'w', newline='') as f:\n",
    "    writer = csv.writer(f, delimiter=',')\n",
    "    writer.writerow(['relative image path', 'relative gt path'])\n",
    "    for train_pair in train_split:\n",
    "        writer.writerow(train_pair)"
   ]
  },
  {
   "cell_type": "code",
   "execution_count": 8,
   "id": "ae47a44d",
   "metadata": {},
   "outputs": [],
   "source": [
    "save_path = os.path.join(base_path, 'val_split.csv')\n",
    "with open(save_path, 'w', newline='') as f:\n",
    "    writer = csv.writer(f, delimiter=',')\n",
    "    writer.writerow(['relative image path', 'relative gt path'])\n",
    "    for val_pair in val_split:\n",
    "        writer.writerow(val_pair)"
   ]
  },
  {
   "cell_type": "code",
   "execution_count": 9,
   "id": "d650b5ec",
   "metadata": {},
   "outputs": [],
   "source": [
    "save_path = os.path.join(base_path, 'train_and_val_split.csv')\n",
    "with open(save_path, 'w', newline='') as f:\n",
    "    writer = csv.writer(f, delimiter=',')\n",
    "    writer.writerow(['relative image path', 'relative gt path'])\n",
    "    for train_and_val_pair in train_and_val:\n",
    "        writer.writerow(train_and_val_pair)"
   ]
  },
  {
   "cell_type": "code",
   "execution_count": 10,
   "id": "23fdc78c",
   "metadata": {},
   "outputs": [],
   "source": [
    "save_path = os.path.join(base_path, 'test_split.csv')\n",
    "with open(save_path, 'w', newline='') as f:\n",
    "    writer = csv.writer(f, delimiter=',')\n",
    "    writer.writerow(['relative image path', 'relative gt path'])\n",
    "    for test_pair in test_split:\n",
    "        writer.writerow(test_pair)"
   ]
  },
  {
   "cell_type": "code",
   "execution_count": null,
   "id": "79fbcd28",
   "metadata": {},
   "outputs": [],
   "source": []
  }
 ],
 "metadata": {
  "kernelspec": {
   "display_name": "ThesisMain",
   "language": "python",
   "name": "thesismain"
  },
  "language_info": {
   "codemirror_mode": {
    "name": "ipython",
    "version": 3
   },
   "file_extension": ".py",
   "mimetype": "text/x-python",
   "name": "python",
   "nbconvert_exporter": "python",
   "pygments_lexer": "ipython3",
   "version": "3.7.9"
  }
 },
 "nbformat": 4,
 "nbformat_minor": 5
}
