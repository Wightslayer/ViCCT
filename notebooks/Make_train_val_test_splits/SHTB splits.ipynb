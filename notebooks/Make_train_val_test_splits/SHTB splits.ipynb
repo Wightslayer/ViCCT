{
 "cells": [
  {
   "cell_type": "code",
   "execution_count": 1,
   "id": "b064e229",
   "metadata": {},
   "outputs": [
    {
     "name": "stdout",
     "output_type": "stream",
     "text": [
      "C:\\Users\\Wight\\PycharmProjects\\ViCCT\n"
     ]
    }
   ],
   "source": [
    "%cd ../.."
   ]
  },
  {
   "cell_type": "code",
   "execution_count": 2,
   "id": "eac5b897",
   "metadata": {},
   "outputs": [],
   "source": [
    "import os\n",
    "import csv\n",
    "import random"
   ]
  },
  {
   "cell_type": "code",
   "execution_count": 3,
   "id": "a8f83302",
   "metadata": {},
   "outputs": [],
   "source": [
    "base_path = 'D:\\\\ThesisData\\\\Datasets\\\\ShanghaiTech\\\\part_B'\n",
    "train_path = os.path.join(base_path, 'train_data')\n",
    "test_path = os.path.join(base_path, 'test_data')"
   ]
  },
  {
   "cell_type": "code",
   "execution_count": 4,
   "id": "bf1b8eff",
   "metadata": {},
   "outputs": [],
   "source": [
    "# Get all train data\n",
    "\n",
    "train_imgs_path = os.path.join(train_path, 'images')\n",
    "all_train_images = os.listdir(train_imgs_path)\n",
    "\n",
    "train_and_val = []\n",
    "for train_img_name in all_train_images:\n",
    "    train_gt_name = 'GT_' + train_img_name.replace('.jpg', '.mat')\n",
    "    train_img_rel_path = os.path.join('train_data', 'images', train_img_name)\n",
    "    train_gt_rel_path = os.path.join('train_data', 'ground-truth', train_gt_name)\n",
    "    train_and_val.append((train_img_rel_path, train_gt_rel_path))"
   ]
  },
  {
   "cell_type": "code",
   "execution_count": 5,
   "id": "6114456f",
   "metadata": {},
   "outputs": [],
   "source": [
    "# Get all test data\n",
    "\n",
    "test_imgs_path = os.path.join(test_path, 'images')\n",
    "all_test_images = os.listdir(test_imgs_path)\n",
    "\n",
    "test_split = []\n",
    "for test_img_name in all_test_images:\n",
    "    test_gt_name = 'GT_' + test_img_name.replace('.jpg', '.mat')\n",
    "    test_img_rel_path = os.path.join('test_data', 'images', test_img_name)\n",
    "    test_gt_rel_path = os.path.join('test_data', 'ground-truth', test_gt_name)\n",
    "    test_split.append((test_img_rel_path, test_gt_rel_path))"
   ]
  },
  {
   "cell_type": "code",
   "execution_count": 6,
   "id": "c9b85800",
   "metadata": {},
   "outputs": [],
   "source": [
    "# The validation split from the thesis\n",
    "val_imgs = ['84.jpg', '75.jpg', '40.jpg', '145.jpg', '220.jpg', '391.jpg', '25.jpg', '7.jpg', '111.jpg', '329.jpg', '24.jpg', '250.jpg', '263.jpg', '101.jpg', '255.jpg', '398.jpg', '280.jpg', '188.jpg', '376.jpg', '186.jpg', '16.jpg', '370.jpg', '214.jpg', '73.jpg', '237.jpg', '113.jpg', '83.jpg', '62.jpg', '235.jpg', '49.jpg', '45.jpg', '298.jpg', '4.jpg', '204.jpg', '8.jpg', '92.jpg', '245.jpg', '277.jpg', '87.jpg', '295.jpg', '374.jpg', '347.jpg', '269.jpg', '359.jpg', '395.jpg', '34.jpg', '232.jpg', '96.jpg', '207.jpg', '296.jpg', '176.jpg', '289.jpg', '382.jpg', '266.jpg', '89.jpg', '152.jpg', '134.jpg', '267.jpg', '77.jpg', '182.jpg', '270.jpg', '41.jpg', '181.jpg', '58.jpg', '65.jpg', '375.jpg', '183.jpg', '112.jpg', '108.jpg', '20.jpg', '396.jpg', '67.jpg', '74.jpg', '225.jpg', '194.jpg', '363.jpg', '198.jpg', '93.jpg', '253.jpg', '123.jpg']"
   ]
  },
  {
   "cell_type": "code",
   "execution_count": 7,
   "id": "2d75beb7",
   "metadata": {},
   "outputs": [],
   "source": [
    "val_split = []\n",
    "for img_name in val_imgs:\n",
    "    val_img_name = 'IMG_' + img_name\n",
    "    val_gt_name = 'GT_' + val_img_name.replace('.jpg', '.mat')\n",
    "    val_img_rel_path = os.path.join('train_data', 'images', val_img_name)\n",
    "    val_gt_rel_path = os.path.join('train_data', 'ground-truth', val_gt_name)\n",
    "    val_split.append((val_img_rel_path, val_gt_rel_path))"
   ]
  },
  {
   "cell_type": "code",
   "execution_count": 8,
   "id": "bc80f4d0",
   "metadata": {},
   "outputs": [],
   "source": [
    "train_split = [element for element in train_and_val if not element in val_split]"
   ]
  },
  {
   "cell_type": "code",
   "execution_count": 9,
   "id": "92d2d666",
   "metadata": {},
   "outputs": [],
   "source": [
    "save_path = os.path.join(base_path, 'train_split.csv')\n",
    "with open(save_path, 'w', newline='') as f:\n",
    "    writer = csv.writer(f, delimiter=',')\n",
    "    writer.writerow(['relative image path', 'relative gt path'])\n",
    "    for train_pair in train_split:\n",
    "        writer.writerow(train_pair)"
   ]
  },
  {
   "cell_type": "code",
   "execution_count": 10,
   "id": "e931a4c3",
   "metadata": {},
   "outputs": [],
   "source": [
    "save_path = os.path.join(base_path, 'val_split.csv')\n",
    "with open(save_path, 'w', newline='') as f:\n",
    "    writer = csv.writer(f, delimiter=',')\n",
    "    writer.writerow(['relative image path', 'relative gt path'])\n",
    "    for val_pair in val_split:\n",
    "        writer.writerow(val_pair)"
   ]
  },
  {
   "cell_type": "code",
   "execution_count": 11,
   "id": "986ba33f",
   "metadata": {},
   "outputs": [],
   "source": [
    "save_path = os.path.join(base_path, 'train_and_val_split.csv')\n",
    "with open(save_path, 'w', newline='') as f:\n",
    "    writer = csv.writer(f, delimiter=',')\n",
    "    writer.writerow(['relative image path', 'relative gt path'])\n",
    "    for train_and_val_pair in train_and_val:\n",
    "        writer.writerow(train_and_val_pair)"
   ]
  },
  {
   "cell_type": "code",
   "execution_count": 12,
   "id": "a143325b",
   "metadata": {},
   "outputs": [],
   "source": [
    "save_path = os.path.join(base_path, 'test_split.csv')\n",
    "with open(save_path, 'w', newline='') as f:\n",
    "    writer = csv.writer(f, delimiter=',')\n",
    "    writer.writerow(['relative image path', 'relative gt path'])\n",
    "    for test_pair in test_split:\n",
    "        writer.writerow(test_pair)"
   ]
  },
  {
   "cell_type": "code",
   "execution_count": null,
   "id": "ad71fc58",
   "metadata": {},
   "outputs": [],
   "source": []
  }
 ],
 "metadata": {
  "kernelspec": {
   "display_name": "ThesisMain",
   "language": "python",
   "name": "thesismain"
  },
  "language_info": {
   "codemirror_mode": {
    "name": "ipython",
    "version": 3
   },
   "file_extension": ".py",
   "mimetype": "text/x-python",
   "name": "python",
   "nbconvert_exporter": "python",
   "pygments_lexer": "ipython3",
   "version": "3.7.9"
  }
 },
 "nbformat": 4,
 "nbformat_minor": 5
}
