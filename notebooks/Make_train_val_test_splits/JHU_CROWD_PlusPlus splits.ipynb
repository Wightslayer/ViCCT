{
 "cells": [
  {
   "cell_type": "code",
   "execution_count": 1,
   "id": "b064e229",
   "metadata": {},
   "outputs": [
    {
     "name": "stdout",
     "output_type": "stream",
     "text": [
      "C:\\Users\\Wight\\PycharmProjects\\ViCCT\n"
     ]
    }
   ],
   "source": [
    "%cd ../.."
   ]
  },
  {
   "cell_type": "code",
   "execution_count": 2,
   "id": "eac5b897",
   "metadata": {},
   "outputs": [],
   "source": [
    "import os\n",
    "import csv\n",
    "import random"
   ]
  },
  {
   "cell_type": "code",
   "execution_count": 3,
   "id": "a8f83302",
   "metadata": {},
   "outputs": [],
   "source": [
    "base_path = 'D:\\\\ThesisData\\\\Datasets\\\\JHU-CROWD++'\n",
    "train_path = os.path.join(base_path, 'train')\n",
    "val_path = os.path.join(base_path, 'val')\n",
    "test_path = os.path.join(base_path, 'test')"
   ]
  },
  {
   "cell_type": "code",
   "execution_count": 4,
   "id": "bf1b8eff",
   "metadata": {},
   "outputs": [],
   "source": [
    "# Get all train data\n",
    "\n",
    "train_imgs_path = os.path.join(train_path, 'images')\n",
    "all_train_images = os.listdir(train_imgs_path)\n",
    "\n",
    "train_split = []\n",
    "for train_img_name in all_train_images:\n",
    "    train_gt_name = train_img_name.replace('.jpg', '.txt')\n",
    "    train_img_rel_path = os.path.join('train', 'images', train_img_name)\n",
    "    train_gt_rel_path = os.path.join('train', 'gt', train_gt_name)\n",
    "    train_split.append((train_img_rel_path, train_gt_rel_path))"
   ]
  },
  {
   "cell_type": "code",
   "execution_count": 5,
   "id": "108f0ff5",
   "metadata": {},
   "outputs": [],
   "source": [
    "# Get all val data\n",
    "\n",
    "val_imgs_path = os.path.join(val_path, 'images')\n",
    "all_val_images = os.listdir(val_imgs_path)\n",
    "\n",
    "val_split = []\n",
    "for val_img_name in all_val_images:\n",
    "    val_gt_name = val_img_name.replace('.jpg', '.txt')\n",
    "    val_img_rel_path = os.path.join('val', 'images', val_img_name)\n",
    "    val_gt_rel_path = os.path.join('val', 'gt', val_gt_name)\n",
    "    val_split.append((val_img_rel_path, val_gt_rel_path))"
   ]
  },
  {
   "cell_type": "code",
   "execution_count": 6,
   "id": "6114456f",
   "metadata": {},
   "outputs": [],
   "source": [
    "# Get all test data\n",
    "\n",
    "test_imgs_path = os.path.join(test_path, 'images')\n",
    "all_test_images = os.listdir(test_imgs_path)\n",
    "\n",
    "test_split = []\n",
    "for test_img_name in all_test_images:\n",
    "    test_gt_name = test_img_name.replace('.jpg', '.txt')\n",
    "    test_img_rel_path = os.path.join('test', 'images', test_img_name)\n",
    "    test_gt_rel_path = os.path.join('test', 'gt', test_gt_name)\n",
    "    test_split.append((test_img_rel_path, test_gt_rel_path))"
   ]
  },
  {
   "cell_type": "code",
   "execution_count": 7,
   "id": "bc80f4d0",
   "metadata": {},
   "outputs": [],
   "source": [
    "train_and_val_split = train_split + val_split"
   ]
  },
  {
   "cell_type": "code",
   "execution_count": 8,
   "id": "92d2d666",
   "metadata": {},
   "outputs": [],
   "source": [
    "save_path = os.path.join(base_path, 'train_split.csv')\n",
    "with open(save_path, 'w', newline='') as f:\n",
    "    writer = csv.writer(f, delimiter=',')\n",
    "    writer.writerow(['relative image path', 'relative gt path'])\n",
    "    for train_pair in train_split:\n",
    "        writer.writerow(train_pair)"
   ]
  },
  {
   "cell_type": "code",
   "execution_count": 9,
   "id": "e931a4c3",
   "metadata": {},
   "outputs": [],
   "source": [
    "save_path = os.path.join(base_path, 'val_split.csv')\n",
    "with open(save_path, 'w', newline='') as f:\n",
    "    writer = csv.writer(f, delimiter=',')\n",
    "    writer.writerow(['relative image path', 'relative gt path'])\n",
    "    for val_pair in val_split:\n",
    "        writer.writerow(val_pair)"
   ]
  },
  {
   "cell_type": "code",
   "execution_count": 10,
   "id": "986ba33f",
   "metadata": {},
   "outputs": [],
   "source": [
    "save_path = os.path.join(base_path, 'train_and_val_split.csv')\n",
    "with open(save_path, 'w', newline='') as f:\n",
    "    writer = csv.writer(f, delimiter=',')\n",
    "    writer.writerow(['relative image path', 'relative gt path'])\n",
    "    for train_and_val_pair in train_and_val_split:\n",
    "        writer.writerow(train_and_val_pair)"
   ]
  },
  {
   "cell_type": "code",
   "execution_count": 11,
   "id": "a143325b",
   "metadata": {},
   "outputs": [],
   "source": [
    "save_path = os.path.join(base_path, 'test_split.csv')\n",
    "with open(save_path, 'w', newline='') as f:\n",
    "    writer = csv.writer(f, delimiter=',')\n",
    "    writer.writerow(['relative image path', 'relative gt path'])\n",
    "    for test_pair in test_split:\n",
    "        writer.writerow(test_pair)"
   ]
  },
  {
   "cell_type": "code",
   "execution_count": null,
   "id": "aa9d5e89",
   "metadata": {},
   "outputs": [],
   "source": []
  }
 ],
 "metadata": {
  "kernelspec": {
   "display_name": "ThesisMain",
   "language": "python",
   "name": "thesismain"
  },
  "language_info": {
   "codemirror_mode": {
    "name": "ipython",
    "version": 3
   },
   "file_extension": ".py",
   "mimetype": "text/x-python",
   "name": "python",
   "nbconvert_exporter": "python",
   "pygments_lexer": "ipython3",
   "version": "3.7.9"
  }
 },
 "nbformat": 4,
 "nbformat_minor": 5
}
