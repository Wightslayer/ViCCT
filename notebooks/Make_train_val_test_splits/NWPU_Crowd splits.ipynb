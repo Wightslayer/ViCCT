{
 "cells": [
  {
   "cell_type": "code",
   "execution_count": 1,
   "id": "b064e229",
   "metadata": {},
   "outputs": [
    {
     "name": "stdout",
     "output_type": "stream",
     "text": [
      "C:\\Users\\Wight\\PycharmProjects\\ViCCT\n"
     ]
    }
   ],
   "source": [
    "%cd ../.."
   ]
  },
  {
   "cell_type": "code",
   "execution_count": 2,
   "id": "eac5b897",
   "metadata": {},
   "outputs": [],
   "source": [
    "import os\n",
    "import csv\n",
    "import random"
   ]
  },
  {
   "cell_type": "code",
   "execution_count": 3,
   "id": "a8f83302",
   "metadata": {},
   "outputs": [],
   "source": [
    "base_path = 'D:\\\\ThesisData\\\\Datasets\\\\NWPU-Crowd'"
   ]
  },
  {
   "cell_type": "code",
   "execution_count": 4,
   "id": "53ac681e",
   "metadata": {},
   "outputs": [],
   "source": [
    "train_imgs_path = os.path.join(base_path, 'train.txt')\n",
    "val_imgs_path = os.path.join(base_path, 'val.txt')\n",
    "test_imgs_path = os.path.join(base_path, 'test.txt')"
   ]
  },
  {
   "cell_type": "code",
   "execution_count": 5,
   "id": "76971d71",
   "metadata": {},
   "outputs": [],
   "source": [
    "def img_nr_to_dir(img_nr):\n",
    "    whole_img_nr = int(img_nr)\n",
    "    img_nr = int(img_nr[0])\n",
    "    if whole_img_nr % 1000 == 0:\n",
    "        dir_nr = img_nr\n",
    "    else:\n",
    "        dir_nr = min(img_nr + 1, 5)\n",
    "    return 'images_part' + str(dir_nr)\n",
    "    "
   ]
  },
  {
   "cell_type": "code",
   "execution_count": 6,
   "id": "bf1b8eff",
   "metadata": {},
   "outputs": [],
   "source": [
    "# Get all train data\n",
    "\n",
    "train_split = []\n",
    "\n",
    "with open(train_imgs_path, 'r') as f:\n",
    "    lines = f.readlines()\n",
    "\n",
    "for line in lines:\n",
    "    img_nr = line.split(' ')[0]\n",
    "    img_name = img_nr + '.jpg'\n",
    "    gt_name = img_nr + '.mat'\n",
    "    dir_name = img_nr_to_dir(img_nr)\n",
    "    img_rel_path = os.path.join('NWPU-Crowd', dir_name, img_name)\n",
    "    gt_rel_path = os.path.join('mats', gt_name)\n",
    "    train_split.append((img_rel_path, gt_rel_path))\n"
   ]
  },
  {
   "cell_type": "code",
   "execution_count": 7,
   "id": "6114456f",
   "metadata": {},
   "outputs": [],
   "source": [
    "# Get all val data\n",
    "\n",
    "val_split = []\n",
    "\n",
    "with open(val_imgs_path, 'r') as f:\n",
    "    lines = f.readlines()\n",
    "\n",
    "for line in lines:\n",
    "    img_nr = line.split(' ')[0]\n",
    "    img_name = img_nr + '.jpg'\n",
    "    gt_name = img_nr + '.mat'\n",
    "    dir_name = img_nr_to_dir(img_nr)\n",
    "    img_rel_path = os.path.join('NWPU-Crowd', dir_name, img_name)\n",
    "    gt_rel_path = os.path.join('mats', gt_name)\n",
    "    val_split.append((img_rel_path, gt_rel_path))"
   ]
  },
  {
   "cell_type": "code",
   "execution_count": 8,
   "id": "4e370a86",
   "metadata": {},
   "outputs": [],
   "source": [
    "# Get all test data\n",
    "\n",
    "test_split = []\n",
    "\n",
    "with open(test_imgs_path, 'r') as f:\n",
    "    lines = f.readlines()\n",
    "\n",
    "for line in lines:\n",
    "    img_nr = line.split(' ')[0]\n",
    "    img_name = img_nr + '.jpg'\n",
    "    gt_name = img_nr + '.mat'\n",
    "    dir_name = img_nr_to_dir(img_nr)\n",
    "    img_rel_path = os.path.join('NWPU-Crowd', dir_name, img_name)\n",
    "    gt_rel_path = os.path.join('mats', gt_name)\n",
    "    test_split.append((img_rel_path, gt_rel_path))"
   ]
  },
  {
   "cell_type": "code",
   "execution_count": 9,
   "id": "bc80f4d0",
   "metadata": {},
   "outputs": [],
   "source": [
    "train_and_val_split = train_split + val_split"
   ]
  },
  {
   "cell_type": "code",
   "execution_count": 10,
   "id": "92d2d666",
   "metadata": {},
   "outputs": [],
   "source": [
    "save_path = os.path.join(base_path, 'train_split.csv')\n",
    "with open(save_path, 'w', newline='') as f:\n",
    "    writer = csv.writer(f, delimiter=',')\n",
    "    writer.writerow(['relative image path', 'relative gt path'])\n",
    "    for train_pair in train_split:\n",
    "        writer.writerow(train_pair)"
   ]
  },
  {
   "cell_type": "code",
   "execution_count": 11,
   "id": "e931a4c3",
   "metadata": {},
   "outputs": [],
   "source": [
    "save_path = os.path.join(base_path, 'val_split.csv')\n",
    "with open(save_path, 'w', newline='') as f:\n",
    "    writer = csv.writer(f, delimiter=',')\n",
    "    writer.writerow(['relative image path', 'relative gt path'])\n",
    "    for val_pair in val_split:\n",
    "        writer.writerow(val_pair)"
   ]
  },
  {
   "cell_type": "code",
   "execution_count": 12,
   "id": "986ba33f",
   "metadata": {},
   "outputs": [],
   "source": [
    "save_path = os.path.join(base_path, 'train_and_val_split.csv')\n",
    "with open(save_path, 'w', newline='') as f:\n",
    "    writer = csv.writer(f, delimiter=',')\n",
    "    writer.writerow(['relative image path', 'relative gt path'])\n",
    "    for train_and_val_pair in train_and_val_split:\n",
    "        writer.writerow(train_and_val_pair)"
   ]
  },
  {
   "cell_type": "code",
   "execution_count": 13,
   "id": "a143325b",
   "metadata": {},
   "outputs": [],
   "source": [
    "save_path = os.path.join(base_path, 'test_split.csv')\n",
    "with open(save_path, 'w', newline='') as f:\n",
    "    writer = csv.writer(f, delimiter=',')\n",
    "    writer.writerow(['relative image path', 'relative gt path'])\n",
    "    for test_pair in test_split:\n",
    "        writer.writerow(test_pair)"
   ]
  },
  {
   "cell_type": "code",
   "execution_count": null,
   "id": "aa9d5e89",
   "metadata": {},
   "outputs": [],
   "source": []
  }
 ],
 "metadata": {
  "kernelspec": {
   "display_name": "ThesisMain",
   "language": "python",
   "name": "thesismain"
  },
  "language_info": {
   "codemirror_mode": {
    "name": "ipython",
    "version": 3
   },
   "file_extension": ".py",
   "mimetype": "text/x-python",
   "name": "python",
   "nbconvert_exporter": "python",
   "pygments_lexer": "ipython3",
   "version": "3.7.9"
  }
 },
 "nbformat": 4,
 "nbformat_minor": 5
}
