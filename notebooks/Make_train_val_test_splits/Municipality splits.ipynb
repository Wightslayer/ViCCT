{
 "cells": [
  {
   "cell_type": "code",
   "execution_count": 1,
   "id": "b064e229",
   "metadata": {},
   "outputs": [
    {
     "name": "stdout",
     "output_type": "stream",
     "text": [
      "C:\\Users\\Wight\\PycharmProjects\\ViCCT\n"
     ]
    }
   ],
   "source": [
    "%cd ../.."
   ]
  },
  {
   "cell_type": "code",
   "execution_count": 2,
   "id": "eac5b897",
   "metadata": {},
   "outputs": [],
   "source": [
    "import os\n",
    "import csv\n",
    "import random"
   ]
  },
  {
   "cell_type": "code",
   "execution_count": 4,
   "id": "a8f83302",
   "metadata": {},
   "outputs": [],
   "source": [
    "base_path = 'D:\\\\ThesisData\\\\Datasets\\\\Municipality\\\\40 45 FS'"
   ]
  },
  {
   "cell_type": "code",
   "execution_count": 4,
   "id": "bf1b8eff",
   "metadata": {},
   "outputs": [],
   "source": [
    "# Get all train data\n",
    "\n",
    "\n",
    "all_train_images = [img_name for img_name in os.listdir(base_path) if img_name.endswith('.jpg') or img_name.endswith('.png')]\n",
    "\n",
    "train_and_val = []\n",
    "for train_img_name in all_train_images:\n",
    "    train_gt_name = train_img_name\n",
    "    train_gt_name = train_gt_name[:-4]\n",
    "    train_gt_name = train_gt_name.replace('.', '')\n",
    "    train_gt_name = train_gt_name + '-tags.csv'\n",
    "    train_img_rel_path = train_img_name\n",
    "    train_gt_rel_path = train_gt_name\n",
    "    train_and_val.append((train_img_rel_path, train_gt_rel_path))"
   ]
  },
  {
   "cell_type": "code",
   "execution_count": 5,
   "id": "6114456f",
   "metadata": {},
   "outputs": [],
   "source": [
    "# Get all test data\n",
    "test_path = os.path.join(base_path, 'CrossVal')\n",
    "all_test_images = [img_name for img_name in os.listdir(test_path) if img_name.endswith('.jpg') or img_name.endswith('.png')]\n",
    "\n",
    "test_split = []\n",
    "for test_img_name in all_test_images:\n",
    "    test_gt_name = test_img_name\n",
    "    test_gt_name = test_gt_name[:-4]\n",
    "    test_gt_name = test_gt_name.replace('.', '')\n",
    "    test_gt_name = test_gt_name + '-tags.csv'\n",
    "    test_img_rel_path = os.path.join('CrossVal', test_img_name)\n",
    "    test_gt_rel_path = os.path.join('CrossVal', test_gt_name)\n",
    "    test_split.append((test_img_rel_path, test_gt_rel_path))"
   ]
  },
  {
   "cell_type": "code",
   "execution_count": 5,
   "id": "2d75beb7",
   "metadata": {},
   "outputs": [],
   "source": [
    "val_split = random.sample(train_and_val, len(train_and_val) // 5)"
   ]
  },
  {
   "cell_type": "code",
   "execution_count": 6,
   "id": "bc80f4d0",
   "metadata": {},
   "outputs": [],
   "source": [
    "train_split = [element for element in train_and_val if not element in val_split]"
   ]
  },
  {
   "cell_type": "code",
   "execution_count": 7,
   "id": "92d2d666",
   "metadata": {},
   "outputs": [],
   "source": [
    "save_path = os.path.join(base_path, 'train_split.csv')\n",
    "with open(save_path, 'w', newline='') as f:\n",
    "    writer = csv.writer(f, delimiter=',')\n",
    "    writer.writerow(['relative image path', 'relative gt path'])\n",
    "    for train_pair in train_split:\n",
    "        writer.writerow(train_pair)"
   ]
  },
  {
   "cell_type": "code",
   "execution_count": 8,
   "id": "e931a4c3",
   "metadata": {},
   "outputs": [],
   "source": [
    "save_path = os.path.join(base_path, 'val_split.csv')\n",
    "with open(save_path, 'w', newline='') as f:\n",
    "    writer = csv.writer(f, delimiter=',')\n",
    "    writer.writerow(['relative image path', 'relative gt path'])\n",
    "    for val_pair in val_split:\n",
    "        writer.writerow(val_pair)"
   ]
  },
  {
   "cell_type": "code",
   "execution_count": 9,
   "id": "986ba33f",
   "metadata": {},
   "outputs": [],
   "source": [
    "save_path = os.path.join(base_path, 'train_and_val_split.csv')\n",
    "with open(save_path, 'w', newline='') as f:\n",
    "    writer = csv.writer(f, delimiter=',')\n",
    "    writer.writerow(['relative image path', 'relative gt path'])\n",
    "    for train_and_val_pair in train_and_val:\n",
    "        writer.writerow(train_and_val_pair)"
   ]
  },
  {
   "cell_type": "code",
   "execution_count": 6,
   "id": "a143325b",
   "metadata": {},
   "outputs": [],
   "source": [
    "save_path = os.path.join(base_path, 'test_split.csv')\n",
    "with open(save_path, 'w', newline='') as f:\n",
    "    writer = csv.writer(f, delimiter=',')\n",
    "    writer.writerow(['relative image path', 'relative gt path'])\n",
    "    for test_pair in test_split:\n",
    "        writer.writerow(test_pair)"
   ]
  },
  {
   "cell_type": "code",
   "execution_count": null,
   "id": "7e36e8a8",
   "metadata": {},
   "outputs": [],
   "source": []
  }
 ],
 "metadata": {
  "kernelspec": {
   "display_name": "ThesisMain",
   "language": "python",
   "name": "thesismain"
  },
  "language_info": {
   "codemirror_mode": {
    "name": "ipython",
    "version": 3
   },
   "file_extension": ".py",
   "mimetype": "text/x-python",
   "name": "python",
   "nbconvert_exporter": "python",
   "pygments_lexer": "ipython3",
   "version": "3.7.9"
  }
 },
 "nbformat": 4,
 "nbformat_minor": 5
}
