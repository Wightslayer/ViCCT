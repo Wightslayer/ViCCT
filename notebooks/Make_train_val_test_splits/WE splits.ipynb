{
 "cells": [
  {
   "cell_type": "code",
   "execution_count": 1,
   "id": "b064e229",
   "metadata": {},
   "outputs": [
    {
     "name": "stdout",
     "output_type": "stream",
     "text": [
      "C:\\Users\\Wight\\PycharmProjects\\ViCCT\n"
     ]
    }
   ],
   "source": [
    "%cd ../.."
   ]
  },
  {
   "cell_type": "code",
   "execution_count": 2,
   "id": "eac5b897",
   "metadata": {},
   "outputs": [],
   "source": [
    "import os\n",
    "import csv\n",
    "import random"
   ]
  },
  {
   "cell_type": "code",
   "execution_count": 3,
   "id": "a8f83302",
   "metadata": {},
   "outputs": [],
   "source": [
    "base_path = 'D:\\\\ThesisData\\\\Datasets\\\\WE_C3_PP'\n",
    "train_path = os.path.join(base_path, 'train')\n",
    "test_path = os.path.join(base_path, 'test')"
   ]
  },
  {
   "cell_type": "code",
   "execution_count": 4,
   "id": "bf1b8eff",
   "metadata": {},
   "outputs": [],
   "source": [
    "# Get all train data\n",
    "\n",
    "train_imgs_path = os.path.join(train_path, 'img')\n",
    "all_train_images = os.listdir(train_imgs_path)\n",
    "\n",
    "train_and_val = []\n",
    "for train_img_name in all_train_images:\n",
    "    train_gt_name = train_img_name.replace('.jpg', '.csv')\n",
    "    train_img_rel_path = os.path.join('train', 'img', train_img_name)\n",
    "    train_gt_rel_path = os.path.join('train', 'den', train_gt_name)\n",
    "    train_and_val.append((train_img_rel_path, train_gt_rel_path))"
   ]
  },
  {
   "cell_type": "code",
   "execution_count": 5,
   "id": "6114456f",
   "metadata": {},
   "outputs": [],
   "source": [
    "# Get all test data\n",
    "test_split = []\n",
    "\n",
    "test_folders = [dirname for dirname in os.listdir(test_path) if os.path.isdir(os.path.join(test_path, dirname))]\n",
    "\n",
    "for test_folder in test_folders:\n",
    "    test_folder_imgs_path = os.path.join(test_path, test_folder, 'img')\n",
    "    for test_img_name in os.listdir(test_folder_imgs_path):\n",
    "        test_gt_name = test_img_name.replace('.jpg', '.csv')\n",
    "        test_img_rel_path = os.path.join('test', test_folder, 'img', test_img_name)\n",
    "        test_gt_rel_path = os.path.join('test', test_folder, 'den', test_gt_name)\n",
    "        test_split.append((test_img_rel_path, test_gt_rel_path))"
   ]
  },
  {
   "cell_type": "code",
   "execution_count": 6,
   "id": "bc80f4d0",
   "metadata": {},
   "outputs": [],
   "source": [
    "val_split = random.sample(train_and_val, len(train_and_val) // 5)\n",
    "train_split = [element for element in train_and_val if not element in val_split]"
   ]
  },
  {
   "cell_type": "code",
   "execution_count": 7,
   "id": "92d2d666",
   "metadata": {},
   "outputs": [],
   "source": [
    "save_path = os.path.join(base_path, 'train_split.csv')\n",
    "with open(save_path, 'w', newline='') as f:\n",
    "    writer = csv.writer(f, delimiter=',')\n",
    "    writer.writerow(['relative image path', 'relative gt path'])\n",
    "    for train_pair in train_split:\n",
    "        writer.writerow(train_pair)"
   ]
  },
  {
   "cell_type": "code",
   "execution_count": 8,
   "id": "e931a4c3",
   "metadata": {},
   "outputs": [],
   "source": [
    "save_path = os.path.join(base_path, 'val_split.csv')\n",
    "with open(save_path, 'w', newline='') as f:\n",
    "    writer = csv.writer(f, delimiter=',')\n",
    "    writer.writerow(['relative image path', 'relative gt path'])\n",
    "    for val_pair in val_split:\n",
    "        writer.writerow(val_pair)"
   ]
  },
  {
   "cell_type": "code",
   "execution_count": 9,
   "id": "986ba33f",
   "metadata": {},
   "outputs": [],
   "source": [
    "save_path = os.path.join(base_path, 'train_and_val_split.csv')\n",
    "with open(save_path, 'w', newline='') as f:\n",
    "    writer = csv.writer(f, delimiter=',')\n",
    "    writer.writerow(['relative image path', 'relative gt path'])\n",
    "    for train_and_val_pair in train_and_val:\n",
    "        writer.writerow(train_and_val_pair)"
   ]
  },
  {
   "cell_type": "code",
   "execution_count": 10,
   "id": "a143325b",
   "metadata": {},
   "outputs": [],
   "source": [
    "save_path = os.path.join(base_path, 'test_split.csv')\n",
    "with open(save_path, 'w', newline='') as f:\n",
    "    writer = csv.writer(f, delimiter=',')\n",
    "    writer.writerow(['relative image path', 'relative gt path'])\n",
    "    for test_pair in test_split:\n",
    "        writer.writerow(test_pair)"
   ]
  },
  {
   "cell_type": "code",
   "execution_count": null,
   "id": "aa9d5e89",
   "metadata": {},
   "outputs": [],
   "source": []
  }
 ],
 "metadata": {
  "kernelspec": {
   "display_name": "ThesisMain",
   "language": "python",
   "name": "thesismain"
  },
  "language_info": {
   "codemirror_mode": {
    "name": "ipython",
    "version": 3
   },
   "file_extension": ".py",
   "mimetype": "text/x-python",
   "name": "python",
   "nbconvert_exporter": "python",
   "pygments_lexer": "ipython3",
   "version": "3.7.9"
  }
 },
 "nbformat": 4,
 "nbformat_minor": 5
}
